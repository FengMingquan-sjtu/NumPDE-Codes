{
 "cells": [
  {
   "cell_type": "markdown",
   "id": "23ec2c16",
   "metadata": {},
   "source": [
    "# Non-linear Poission\n",
    "---\n",
    "In the previous note, we solve the bilinear weak form of Poission equation by FEM. Now we aim at the non-bilinear case:\n",
    "\n",
    "$$\n",
    "\\begin{align*}\n",
    "{}- \\nabla\\cdot \\kappa(u) \\nabla &u = f(x,y)\\qquad((x,y)\\in\\Omega),\\\\\n",
    "u &= g(x,y)\\qquad ((x,y)\\in \\partial \\Omega).\n",
    "\\end{align*}\n",
    "$$\n",
    "\n",
    "The key difference is that $\\kappa$ now is a function of $u$, thus the LHS $a(u,v)$ is no longer linear w.r.t. $u$. The general idea for such nonlinear problem is iteratively solving a series of linear problem, so that an initial guess $u^0$ gradually approaches the true solution.\n",
    "\n"
   ]
  },
  {
   "cell_type": "markdown",
   "id": "28089a5b",
   "metadata": {},
   "source": [
    "## Alg1: Picard iteration"
   ]
  },
  {
   "cell_type": "markdown",
   "id": "2d8755b6",
   "metadata": {},
   "source": [
    "# "
   ]
  }
 ],
 "metadata": {
  "kernelspec": {
   "display_name": "Python 3",
   "language": "python",
   "name": "python3"
  },
  "language_info": {
   "codemirror_mode": {
    "name": "ipython",
    "version": 3
   },
   "file_extension": ".py",
   "mimetype": "text/x-python",
   "name": "python",
   "nbconvert_exporter": "python",
   "pygments_lexer": "ipython3",
   "version": "3.7.4"
  }
 },
 "nbformat": 4,
 "nbformat_minor": 5
}
