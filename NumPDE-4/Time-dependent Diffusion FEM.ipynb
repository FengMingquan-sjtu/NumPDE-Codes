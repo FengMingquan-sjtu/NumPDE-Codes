{
 "cells": [
  {
   "cell_type": "markdown",
   "id": "f207e777",
   "metadata": {},
   "source": [
    "# Time dependent Diffusion\n",
    "In this note, we consider a diffusion problem, which is the simplest extension of the Poisson problem into the time domain. The solution $u= u(t,x,y)$, with initial $u_0(t, x, y)$ and boundary $I(x,y)$.\n",
    "\\begin{equation}\n",
    "\\begin{aligned}\n",
    "\\frac{\\partial u}{\\partial t} & =\\Delta u+f \\text { in } \\Omega, \\text { for } t>0 \\\\\n",
    "u & =u_0 \\text { on } \\partial \\Omega, \\text { for } t>0 \\\\\n",
    "u & =I \\text { at } t=0 .\n",
    "\\end{aligned}\n",
    "\\end{equation}"
   ]
  },
  {
   "cell_type": "code",
   "execution_count": null,
   "id": "4e92ebe1",
   "metadata": {},
   "outputs": [],
   "source": []
  }
 ],
 "metadata": {
  "kernelspec": {
   "display_name": "Python 3",
   "language": "python",
   "name": "python3"
  },
  "language_info": {
   "codemirror_mode": {
    "name": "ipython",
    "version": 3
   },
   "file_extension": ".py",
   "mimetype": "text/x-python",
   "name": "python",
   "nbconvert_exporter": "python",
   "pygments_lexer": "ipython3",
   "version": "3.7.4"
  }
 },
 "nbformat": 4,
 "nbformat_minor": 5
}
