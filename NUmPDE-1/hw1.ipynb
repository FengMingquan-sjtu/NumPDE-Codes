{
 "cells": [
  {
   "cell_type": "code",
   "execution_count": 1,
   "id": "dcad905c",
   "metadata": {},
   "outputs": [],
   "source": [
    "# hw link https://relate.cs.illinois.edu/course/cs555-s22/flow-session/835710/2/"
   ]
  },
  {
   "cell_type": "code",
   "execution_count": 36,
   "id": "b5bd1bcb",
   "metadata": {},
   "outputs": [],
   "source": [
    "import numpy as np\n",
    "import numpy.linalg as la\n",
    "from scipy.integrate import simps\n",
    "import matplotlib.pyplot as plt"
   ]
  },
  {
   "cell_type": "code",
   "execution_count": 59,
   "id": "9378bf53",
   "metadata": {},
   "outputs": [],
   "source": [
    "# constants\n",
    "T = 1\n",
    "X = 1\n",
    "delta_x = 0.1\n",
    "delta_t = 0.05\n",
    "\n",
    "\n",
    "\n",
    "\n",
    "# inputs\n",
    "def get_gt_and_init(delta_x, delta_t):\n",
    "    x_arr = np.arange(0, X+delta_x, delta_x)  #11-dim\n",
    "    t_arr = np.arange(0, T+delta_t, delta_t) #21-dim\n",
    "    true_solution = np.sin(np.pi *x_arr[:,None]) * np.cos(np.pi * t_arr)#u[x,t] = sin(pix)cos(pit) shape=(11,21)  \n",
    "    #print(true_solution.shape)\n",
    "    true_solution[0, :] = 0\n",
    "    true_solution[-1, :] = 0\n",
    "    initial_data = true_solution[:, 0] #u(x,0) = sin pi x\n",
    "    return true_solution, initial_data\n",
    "\n",
    "spatial_convergence_data = None\n",
    "#get_gt_and_init(delta_x, delta_t)"
   ]
  },
  {
   "cell_type": "code",
   "execution_count": 19,
   "id": "24f47bb2",
   "metadata": {},
   "outputs": [],
   "source": [
    "def solve(initial_data, delta_x, delta_t):\n",
    "    num_x = len(np.arange(0, X+delta_x, delta_x))  \n",
    "    num_t = len(np.arange(0, T+delta_t, delta_t))\n",
    "    u = np.zeros((num_x, num_t))\n",
    "    u[:, 0] = initial_data\n",
    "    \n",
    "    # calculate firts time step u[x, 1]\n",
    "    coef = (delta_t / delta_x)**2\n",
    "    u_zero = u[:,0]  #u[x,0]\n",
    "    u_neg = np.roll(u[:,0],1) #u[x-1, 0]\n",
    "    u_pos = np.roll(u[:,0],-1) #u[x+1, 0]  #boundaries don't matter, since they are 0\n",
    "    u[:, 1] = u_zero + 1/2 * coef* (u_neg - 2*u_zero + coef*u_pos)\n",
    "    u[0, 1], u[-1, 1] = 0, 0 \n",
    "    \n",
    "    \n",
    "    # calculate remaining time step\n",
    "    for t in range(1, num_t-1):  #derive u[:, t+1] from u[:, t] and u[:, t-1]\n",
    "        u_zero = u[:,t]  #u[x,t]\n",
    "        u_neg = np.roll(u[:,t],1) #u[x-1, t]\n",
    "        u_pos = np.roll(u[:,t],-1) #u[x+1, t]\n",
    "        u[:,t+1] = 2*u_zero - u[:,t-1] + coef*(u_pos - 2* u_zero + u_neg)\n",
    "        u[0, t+1], u[-1, t+1] = 0, 0 \n",
    "        \n",
    "    \n",
    "    return u\n",
    "    "
   ]
  },
  {
   "cell_type": "code",
   "execution_count": 22,
   "id": "c9ed25eb",
   "metadata": {},
   "outputs": [],
   "source": [
    "#solve(initial_data, delta_x, delta_t)"
   ]
  },
  {
   "cell_type": "code",
   "execution_count": 28,
   "id": "40aef143",
   "metadata": {},
   "outputs": [
    {
     "data": {
      "image/png": "[encoded data removed]",
      "text/plain": [
       "<Figure size 360x360 with 1 Axes>"
      ]
     },
     "metadata": {
      "needs_background": "light"
     },
     "output_type": "display_data"
    }
   ],
   "source": [
    "# print squared error of u[x,T]\n",
    "delta_x = 0.1\n",
    "delta_t = 0.05\n",
    "true_solution, initial_data = get_gt_and_init(delta_x, delta_t)\n",
    "num_solution = solve(initial_data, delta_x, delta_t)\n",
    "\n",
    "x_arr = np.arange(0, X+delta_x, delta_x)\n",
    "fig = plt.figure(figsize=(5,5))\n",
    "plt.title('Abs error of u[x,T] ')\n",
    "line = plt.plot(x_arr, np.abs(true_solution[:,-1]-num_solution[:,-1]))\n",
    "plt.yscale(\"log\")\n",
    "plt.show()\n"
   ]
  },
  {
   "cell_type": "code",
   "execution_count": 71,
   "id": "b9a98a80",
   "metadata": {},
   "outputs": [],
   "source": [
    "def get_boundary_stencil(delta, degree):\n",
    "    nodes = np.arange(degree+1) * delta\n",
    "    V = np.array([nodes**i for i in range(degree+1)]).T\n",
    "    \n",
    "    def monomial_deriv(i, x):\n",
    "        if i == 0:\n",
    "            return 0*x\n",
    "        else:\n",
    "            return i*nodes**(i-1)\n",
    "\n",
    "    Vprime = np.array([monomial_deriv(i, nodes) for i in range(degree+1)]).T\n",
    "    fderiv = Vprime @ la.inv(V)\n",
    "    \n",
    "    ini_stencil, fin_stencil = fderiv[0,:], fderiv[-1,:]\n",
    "    return ini_stencil, fin_stencil\n",
    "\n",
    "def cal_energy(u, delta_x, delta_t):\n",
    "    x_arr = np.arange(0, X+delta_x, delta_x)\n",
    "    t_arr = np.arange(0, T+delta_t, delta_t)\n",
    "    num_x = len(x_arr)  \n",
    "    num_t = len(t_arr)\n",
    "    \n",
    "    #take drivative on t\n",
    "    u_t = np.zeros(u.shape)\n",
    "    u_t[:,0] = 0\n",
    "    for t in range(1, num_t-1):\n",
    "        u_t[:, t] = (u[:, t+1]- u[:, t-1])/(2* delta_t)\n",
    "    _, fin_stencil = get_boundary_stencil(delta_t, degree=4)\n",
    "    u_t[:,-1] = u[:, -len(fin_stencil):].dot(fin_stencil)\n",
    "    u_t_true = -np.pi * np.sin(np.pi *x_arr[:,None]) * np.sin(np.pi * t_arr)#u_t = -pi sin(pix)sin(pit)\n",
    "    err = ((u_t[:,:-1] - u_t_true[:,:-1])**2).sum() / (num_x * num_t)\n",
    "    \n",
    "    \n",
    "    \n",
    "    #take drivative on x\n",
    "    u_x = np.zeros(u.shape)\n",
    "    ini_stencil, fin_stencil = get_boundary_stencil(delta_x, degree=4)\n",
    "    u_x[0,:] = u[ :len(ini_stencil), :].T.dot(ini_stencil)\n",
    "    u_x[-1,:] = u[-len(fin_stencil):, :].T.dot(fin_stencil)\n",
    "    for x in range(1, num_x-1):\n",
    "        u_x[x, :] = (u[x+1,:]- u[x-1,:])/(2* delta_x)\n",
    "    u_x_true = np.pi * np.cos(np.pi *x_arr[:,None]) * np.cos(np.pi * t_arr)#u_x = pi cos(pix)cos(pit)\n",
    "    err = ((u_x - u_x_true)**2).sum() / (num_x * num_t)\n",
    "    print(\"u_x_err=\", err)\n",
    "    \n",
    "    eng = simps(y=u_t**2 + u_x**2, x=None, dx=delta_x, axis=0)\n",
    "    return eng"
   ]
  },
  {
   "cell_type": "code",
   "execution_count": 73,
   "id": "a1187169",
   "metadata": {},
   "outputs": [
    {
     "name": "stdout",
     "output_type": "stream",
     "text": [
      "u_x_err= 0.1568160779448174\n",
      "u_x_err= 0.06388414873791311\n",
      "u_x_err= 0.07334869926707588\n",
      "u_x_err= 0.0907040909130787\n",
      "u_x_err= 0.08043722072445783\n",
      "u_x_err= 0.19437399933633925\n",
      "u_x_err= 0.3190923029082333\n",
      "u_x_err= 0.7778888653040413\n",
      "u_x_err= 1.8963000324089405\n",
      "u_x_err= 4.599752311381318\n",
      "u_x_err= 11.181299013501514\n",
      "u_x_err= 26.92626671477971\n",
      "u_x_err= 64.22897486498401\n",
      "u_x_err= 150.5613320388155\n",
      "u_x_err= 345.2111331608528\n",
      "u_x_err= 761.2824100697479\n",
      "u_x_err= 1568.14103249586\n",
      "u_x_err= 2842.534819586794\n",
      "u_x_err= 3897.191737090278\n",
      "u_x_err= 2170.2374137770557\n"
     ]
    },
    {
     "data": {
      "image/png": "[encoded data removed]",
      "text/plain": [
       "<Figure size 360x360 with 1 Axes>"
      ]
     },
     "metadata": {
      "needs_background": "light"
     },
     "output_type": "display_data"
    }
   ],
   "source": [
    "spatial_convergence_data = list()\n",
    "delta_t = 0.001\n",
    "delta_x = 0.1\n",
    "decay = 0.8\n",
    "\n",
    "for i in range(20):\n",
    "    delta_x *= decay\n",
    "    true_solution, initial_data = get_gt_and_init(delta_x, delta_t)\n",
    "    spatial_convergence_data.append((delta_x, initial_data, true_solution))\n",
    "\n",
    "\n",
    "delta_x_list = []\n",
    "inf_error_list = []\n",
    "error_eng_list = []\n",
    "\n",
    "for delta_x, initial_data, true_solution in spatial_convergence_data:\n",
    "    delta_x_list.append(delta_x)\n",
    "    num_solution = solve(initial_data, delta_x, delta_t)\n",
    "    inf_error = np.abs(true_solution[:,-1]-num_solution[:,-1]).max()\n",
    "    inf_error_list.append(inf_error)\n",
    "    eng = cal_energy(num_solution, delta_x, delta_t)\n",
    "    error_eng = np.max(eng) - np.min(eng)\n",
    "    error_eng_list.append(error_eng)\n",
    "\n",
    "delta_x_arr = np.array(delta_x_list)\n",
    "inf_error_arr = np.array(inf_error_list)\n",
    "error_eng_arr = np.array(error_eng_list)\n",
    "\n",
    "fig = plt.figure(figsize=(5,5))\n",
    "plt.title('Inf error of u[x,T] ')\n",
    "plt.plot(delta_x_arr, inf_error_arr, label=\"inf_error\")\n",
    "plt.plot(delta_x_arr, error_eng_arr, label=\"eng_error\")\n",
    "plt.plot(delta_x_arr, delta_x_arr, label=\"linear\")\n",
    "plt.plot(delta_x_arr, delta_x_arr**2, label=\"squared\")\n",
    "plt.plot(delta_x_arr, delta_x_arr**3, label=\"cubed\")\n",
    "plt.legend()\n",
    "plt.xscale(\"log\")\n",
    "plt.yscale(\"log\")\n",
    "plt.show()\n"
   ]
  },
  {
   "cell_type": "code",
   "execution_count": 74,
   "id": "e609e310",
   "metadata": {},
   "outputs": [
    {
     "data": {
      "text/plain": [
       "array([4, 5, 6, 7, 8, 9])"
      ]
     },
     "execution_count": 74,
     "metadata": {},
     "output_type": "execute_result"
    }
   ],
   "source": [
    "a = np.arange(10)\n",
    "a[-6:]"
   ]
  },
  {
   "cell_type": "code",
   "execution_count": 43,
   "id": "4ca0e10a",
   "metadata": {},
   "outputs": [
    {
     "ename": "ValueError",
     "evalue": "operands could not be broadcast together with shapes (10,) (11,) ",
     "output_type": "error",
     "traceback": [
      "\u001b[0;31m---------------------------------------------------------------------------\u001b[0m",
      "\u001b[0;31mValueError\u001b[0m                                Traceback (most recent call last)",
      "\u001b[0;32m<ipython-input-43-33fc4a08f28e>\u001b[0m in \u001b[0;36m<module>\u001b[0;34m\u001b[0m\n\u001b[1;32m      1\u001b[0m \u001b[0mb\u001b[0m \u001b[0;34m=\u001b[0m \u001b[0mnp\u001b[0m\u001b[0;34m.\u001b[0m\u001b[0marange\u001b[0m\u001b[0;34m(\u001b[0m\u001b[0;36m11\u001b[0m\u001b[0;34m)\u001b[0m\u001b[0;34m\u001b[0m\u001b[0;34m\u001b[0m\u001b[0m\n\u001b[0;32m----> 2\u001b[0;31m \u001b[0ma\u001b[0m \u001b[0;34m*\u001b[0m\u001b[0mb\u001b[0m\u001b[0;34m\u001b[0m\u001b[0;34m\u001b[0m\u001b[0m\n\u001b[0m",
      "\u001b[0;31mValueError\u001b[0m: operands could not be broadcast together with shapes (10,) (11,) "
     ]
    }
   ],
   "source": [
    "b = np.arange(11)\n",
    "a *b"
   ]
  },
  {
   "cell_type": "code",
   "execution_count": null,
   "id": "b179dbf7",
   "metadata": {},
   "outputs": [],
   "source": []
  }
 ],
 "metadata": {
  "kernelspec": {
   "display_name": "Python 3",
   "language": "python",
   "name": "python3"
  },
  "language_info": {
   "codemirror_mode": {
    "name": "ipython",
    "version": 3
   },
   "file_extension": ".py",
   "mimetype": "text/x-python",
   "name": "python",
   "nbconvert_exporter": "python",
   "pygments_lexer": "ipython3",
   "version": "3.7.4"
  }
 },
 "nbformat": 4,
 "nbformat_minor": 5
}
