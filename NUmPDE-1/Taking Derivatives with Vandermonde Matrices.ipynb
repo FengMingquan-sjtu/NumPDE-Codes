{
 "cells": [
  {
   "cell_type": "markdown",
   "metadata": {},
   "source": [
    "# Taking Derivatives with Vandermonde Matrices\n",
    "\n",
    "Copyright (C) 2020 Andreas Kloeckner\n",
    "\n",
    "<details>\n",
    "<summary>MIT License</summary>\n",
    "Permission is hereby granted, free of charge, to any person obtaining a copy\n",
    "of this software and associated documentation files (the \"Software\"), to deal\n",
    "in the Software without restriction, including without limitation the rights\n",
    "to use, copy, modify, merge, publish, distribute, sublicense, and/or sell\n",
    "copies of the Software, and to permit persons to whom the Software is\n",
    "furnished to do so, subject to the following conditions:\n",
    "\n",
    "The above copyright notice and this permission notice shall be included in\n",
    "all copies or substantial portions of the Software.\n",
    "\n",
    "THE SOFTWARE IS PROVIDED \"AS IS\", WITHOUT WARRANTY OF ANY KIND, EXPRESS OR\n",
    "IMPLIED, INCLUDING BUT NOT LIMITED TO THE WARRANTIES OF MERCHANTABILITY,\n",
    "FITNESS FOR A PARTICULAR PURPOSE AND NONINFRINGEMENT. IN NO EVENT SHALL THE\n",
    "AUTHORS OR COPYRIGHT HOLDERS BE LIABLE FOR ANY CLAIM, DAMAGES OR OTHER\n",
    "LIABILITY, WHETHER IN AN ACTION OF CONTRACT, TORT OR OTHERWISE, ARISING FROM,\n",
    "OUT OF OR IN CONNECTION WITH THE SOFTWARE OR THE USE OR OTHER DEALINGS IN\n",
    "THE SOFTWARE.\n",
    "</details>"
   ]
  },
  {
   "cell_type": "code",
   "execution_count": 2,
   "metadata": {
    "jupyter": {
     "outputs_hidden": false
    }
   },
   "outputs": [],
   "source": [
    "import numpy as np\n",
    "import numpy.linalg as la\n",
    "import matplotlib.pyplot as pt"
   ]
  },
  {
   "cell_type": "markdown",
   "metadata": {},
   "source": [
    "Here are a few functions:"
   ]
  },
  {
   "cell_type": "code",
   "execution_count": 3,
   "metadata": {
    "jupyter": {
     "outputs_hidden": false
    }
   },
   "outputs": [],
   "source": [
    "if 1:\n",
    "    def f(x):\n",
    "        return np.sin(5*x)\n",
    "    def df(x):\n",
    "        return 5*np.cos(5*x)\n",
    "elif 0:\n",
    "    gamma = 0.15\n",
    "    def f(x):\n",
    "        return np.sin(1/(gamma+x))\n",
    "    def df(x):\n",
    "        return -np.cos(1/(gamma+x))/(gamma+x)**2\n",
    "else:\n",
    "    def f(x):\n",
    "        return np.abs(x-0.5)\n",
    "    def df(x):\n",
    "        # Well...\n",
    "        return -1 + 2*(x<=0.5).astype(np.float)"
   ]
  },
  {
   "cell_type": "code",
   "execution_count": 4,
   "metadata": {
    "jupyter": {
     "outputs_hidden": false
    }
   },
   "outputs": [
    {
     "data": {
      "text/plain": [
       "[<matplotlib.lines.Line2D at 0x7fc19fad8510>]"
      ]
     },
     "execution_count": 4,
     "metadata": {},
     "output_type": "execute_result"
    },
    {
     "data": {
      "image/png": "[encoded data removed]",
      "text/plain": [
       "<Figure size 432x288 with 1 Axes>"
      ]
     },
     "metadata": {
      "needs_background": "light"
     },
     "output_type": "display_data"
    }
   ],
   "source": [
    "x_01 = np.linspace(0, 1, 1000)\n",
    "pt.plot(x_01, f(x_01))"
   ]
  },
  {
   "cell_type": "code",
   "execution_count": 59,
   "metadata": {
    "jupyter": {
     "outputs_hidden": false
    }
   },
   "outputs": [
    {
     "data": {
      "text/plain": [
       "array([0.25 , 0.375, 0.5  , 0.625, 0.75 ])"
      ]
     },
     "execution_count": 59,
     "metadata": {},
     "output_type": "execute_result"
    }
   ],
   "source": [
    "degree = 4\n",
    "h = 0.5\n",
    "\n",
    "nodes = 0.5 + np.linspace(-h/2, h/2, degree+1)\n",
    "nodes"
   ]
  },
  {
   "cell_type": "markdown",
   "metadata": {},
   "source": [
    "Build the gen. Vandermonde matrix and find the coefficients:"
   ]
  },
  {
   "cell_type": "code",
   "execution_count": 60,
   "metadata": {
    "jupyter": {
     "outputs_hidden": false
    }
   },
   "outputs": [
    {
     "data": {
      "text/plain": [
       "array([[1.        , 0.25      , 0.0625    , 0.015625  , 0.00390625],\n",
       "       [1.        , 0.375     , 0.140625  , 0.05273438, 0.01977539],\n",
       "       [1.        , 0.5       , 0.25      , 0.125     , 0.0625    ],\n",
       "       [1.        , 0.625     , 0.390625  , 0.24414062, 0.15258789],\n",
       "       [1.        , 0.75      , 0.5625    , 0.421875  , 0.31640625]])"
      ]
     },
     "execution_count": 60,
     "metadata": {},
     "output_type": "execute_result"
    }
   ],
   "source": [
    "V = np.array([\n",
    "    nodes**i\n",
    "    for i in range(degree+1)\n",
    "]).T\n",
    "V"
   ]
  },
  {
   "cell_type": "code",
   "execution_count": 61,
   "metadata": {
    "jupyter": {
     "outputs_hidden": false
    }
   },
   "outputs": [],
   "source": [
    "#clear\n",
    "coeffs = la.solve(V, f(nodes))"
   ]
  },
  {
   "cell_type": "markdown",
   "metadata": {},
   "source": [
    "Evaluate the interpolant:"
   ]
  },
  {
   "cell_type": "code",
   "execution_count": 62,
   "metadata": {
    "jupyter": {
     "outputs_hidden": false
    }
   },
   "outputs": [],
   "source": [
    "x_0h = 0.5+np.linspace(-h/2, h/2, 1000)"
   ]
  },
  {
   "cell_type": "code",
   "execution_count": 63,
   "metadata": {
    "jupyter": {
     "outputs_hidden": false
    }
   },
   "outputs": [],
   "source": [
    "interp_0h = 0*x_0h\n",
    "for i in range(degree+1):\n",
    "    interp_0h += coeffs[i] * x_0h**i"
   ]
  },
  {
   "cell_type": "code",
   "execution_count": 64,
   "metadata": {
    "jupyter": {
     "outputs_hidden": false
    }
   },
   "outputs": [
    {
     "data": {
      "text/plain": [
       "<matplotlib.legend.Legend at 0x7fc1a0df1750>"
      ]
     },
     "execution_count": 64,
     "metadata": {},
     "output_type": "execute_result"
    },
    {
     "data": {
      "image/png": "[encoded data removed]",
      "text/plain": [
       "<Figure size 432x288 with 1 Axes>"
      ]
     },
     "metadata": {
      "needs_background": "light"
     },
     "output_type": "display_data"
    }
   ],
   "source": [
    "pt.plot(x_01, f(x_01), \"--\", color=\"gray\", label=\"$f$\")\n",
    "pt.plot(x_0h, interp_0h, color=\"red\", label=\"Interpolant\")\n",
    "pt.plot(nodes, f(nodes), \"or\")\n",
    "pt.legend(loc=\"best\")"
   ]
  },
  {
   "cell_type": "markdown",
   "metadata": {},
   "source": [
    "Now build the gen. Vandermonde matrix $V'=$`Vprime` of the derivatives:"
   ]
  },
  {
   "cell_type": "code",
   "execution_count": 65,
   "metadata": {
    "jupyter": {
     "outputs_hidden": false
    }
   },
   "outputs": [
    {
     "data": {
      "text/plain": [
       "array([[0.       , 1.       , 0.5      , 0.1875   , 0.0625   ],\n",
       "       [0.       , 1.       , 0.75     , 0.421875 , 0.2109375],\n",
       "       [0.       , 1.       , 1.       , 0.75     , 0.5      ],\n",
       "       [0.       , 1.       , 1.25     , 1.171875 , 0.9765625],\n",
       "       [0.       , 1.       , 1.5      , 1.6875   , 1.6875   ]])"
      ]
     },
     "execution_count": 65,
     "metadata": {},
     "output_type": "execute_result"
    }
   ],
   "source": [
    "#clear\n",
    "def monomial_deriv(i, x):\n",
    "    if i == 0:\n",
    "        return 0*x\n",
    "    else:\n",
    "        return i*nodes**(i-1)\n",
    "\n",
    "Vprime = np.array([\n",
    "    monomial_deriv(i, nodes)\n",
    "    for i in range(degree+1)\n",
    "]).T\n",
    "Vprime"
   ]
  },
  {
   "cell_type": "markdown",
   "metadata": {},
   "source": [
    "Compute the value of the derivative at the nodes as `fderiv`:"
   ]
  },
  {
   "cell_type": "code",
   "execution_count": 70,
   "metadata": {
    "jupyter": {
     "outputs_hidden": false
    }
   },
   "outputs": [
    {
     "data": {
      "text/plain": [
       "array([ 1.70244042, -1.5401174 , -3.98042286, -5.02016895, -4.06104869])"
      ]
     },
     "execution_count": 70,
     "metadata": {},
     "output_type": "execute_result"
    }
   ],
   "source": [
    "#clear\n",
    "fderiv = Vprime @ la.inv(V) @ (f(nodes)+ 0 * np.random.rand(len(nodes)))\n",
    "fderiv  \n"
   ]
  },
  {
   "cell_type": "markdown",
   "metadata": {},
   "source": [
    "And plot vs `df`, the exact derivative:"
   ]
  },
  {
   "cell_type": "code",
   "execution_count": 71,
   "metadata": {
    "jupyter": {
     "outputs_hidden": false
    }
   },
   "outputs": [
    {
     "data": {
      "text/plain": [
       "<matplotlib.legend.Legend at 0x7fc1a0fa1550>"
      ]
     },
     "execution_count": 71,
     "metadata": {},
     "output_type": "execute_result"
    },
    {
     "data": {
      "image/png": "[encoded data removed]",
      "text/plain": [
       "<Figure size 432x288 with 1 Axes>"
      ]
     },
     "metadata": {
      "needs_background": "light"
     },
     "output_type": "display_data"
    }
   ],
   "source": [
    "pt.plot(x_01, df(x_01), \"--\", color=\"gray\", label=\"$f$\")\n",
    "pt.plot(nodes, fderiv, \"or\")\n",
    "pt.legend(loc=\"best\")"
   ]
  },
  {
   "cell_type": "markdown",
   "metadata": {},
   "source": [
    "* Why don't we hit the values of the derivative exactly?\n",
    "* Do an accuracy study."
   ]
  },
  {
   "cell_type": "code",
   "execution_count": 68,
   "metadata": {
    "jupyter": {
     "outputs_hidden": false
    }
   },
   "outputs": [
    {
     "name": "stdout",
     "output_type": "stream",
     "text": [
      "0.130219949688966\n"
     ]
    }
   ],
   "source": [
    "#clear\n",
    "print(np.max(np.abs(df(nodes) - fderiv)))"
   ]
  },
  {
   "cell_type": "markdown",
   "metadata": {},
   "source": [
    "*   Can we assign a meaning to the entries of the matrix $D=V'V^{-1}$?\n",
    "*   What happens to the entries of $D$ if we...\n",
    "    * change $h$?\n",
    "    * shift the nodes?\n",
    "* Using this, how would you construct methods for finding $f''$?"
   ]
  },
  {
   "cell_type": "code",
   "execution_count": 69,
   "metadata": {},
   "outputs": [
    {
     "data": {
      "text/plain": [
       "array([[-16.667,  32.   , -24.   ,  10.667,  -2.   ],\n",
       "       [ -2.   ,  -6.667,  12.   ,  -4.   ,   0.667],\n",
       "       [  0.667,  -5.333,   0.   ,   5.333,  -0.667],\n",
       "       [ -0.667,   4.   , -12.   ,   6.667,   2.   ],\n",
       "       [  2.   , -10.667,  24.   , -32.   ,  16.667]])"
      ]
     },
     "execution_count": 69,
     "metadata": {},
     "output_type": "execute_result"
    }
   ],
   "source": [
    "(\n",
    "    Vprime @ la.inv(V)\n",
    ").round(3)"
   ]
  },
  {
   "cell_type": "code",
   "execution_count": 35,
   "metadata": {},
   "outputs": [
    {
     "data": {
      "text/plain": [
       "array([0.25 , 0.375, 0.5  , 0.625, 0.75 ])"
      ]
     },
     "execution_count": 35,
     "metadata": {},
     "output_type": "execute_result"
    }
   ],
   "source": [
    "nodes"
   ]
  },
  {
   "cell_type": "code",
   "execution_count": null,
   "metadata": {},
   "outputs": [],
   "source": []
  }
 ],
 "metadata": {
  "kernelspec": {
   "display_name": "Python 3",
   "language": "python",
   "name": "python3"
  },
  "language_info": {
   "codemirror_mode": {
    "name": "ipython",
    "version": 3
   },
   "file_extension": ".py",
   "mimetype": "text/x-python",
   "name": "python",
   "nbconvert_exporter": "python",
   "pygments_lexer": "ipython3",
   "version": "3.7.4"
  }
 },
 "nbformat": 4,
 "nbformat_minor": 4
}
